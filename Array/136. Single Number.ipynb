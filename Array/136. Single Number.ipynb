{
 "cells": [
  {
   "cell_type": "markdown",
   "id": "32ab1d26",
   "metadata": {},
   "source": [
    "    Q. Given a non-empty array of integers nums, every element appears twice except for one. Find that single one.\n",
    "\n",
    "    You must implement a solution with a linear runtime complexity and use only constant extra space."
   ]
  },
  {
   "cell_type": "markdown",
   "id": "ecb74ae2",
   "metadata": {},
   "source": [
    "Intuition:\n",
    "Two important properties of XOR are the following:\n",
    "\n",
    "XOR of two same numbers is always 0 i.e. a ^ a = 0. ←Property 1.\n",
    "XOR of a number with 0 will result in the number itself i.e. 0 ^ a = a.  ←Property 2\n",
    "\n",
    "Here all the numbers except the single number appear twice and so will form a pair. Now, if we perform XOR of all elements of the array, the XOR of each pair will result in 0 according to the XOR property 1. The result will be = 0 ^ (single number) = single number (according to property 2).\n",
    "\n",
    "So, if we perform the XOR of all the numbers of the array elements, we will be left with a single number.\n",
    "\n",
    "Approach:\n",
    "We will just perform the XOR of all elements of the array using a loop and the final XOR will be the answer."
   ]
  },
  {
   "cell_type": "code",
   "execution_count": null,
   "id": "346afad8",
   "metadata": {},
   "outputs": [],
   "source": [
    "class Solution(object):\n",
    "    def singleNumber(self, nums):\n",
    "        xor = 0\n",
    "\n",
    "        for i in nums:\n",
    "            xor ^= i\n",
    "        return xor"
   ]
  }
 ],
 "metadata": {
  "kernelspec": {
   "display_name": "Python 3 (ipykernel)",
   "language": "python",
   "name": "python3"
  },
  "language_info": {
   "codemirror_mode": {
    "name": "ipython",
    "version": 3
   },
   "file_extension": ".py",
   "mimetype": "text/x-python",
   "name": "python",
   "nbconvert_exporter": "python",
   "pygments_lexer": "ipython3",
   "version": "3.11.7"
  }
 },
 "nbformat": 4,
 "nbformat_minor": 5
}
