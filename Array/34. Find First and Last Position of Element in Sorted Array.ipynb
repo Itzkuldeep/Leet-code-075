{
 "cells": [
  {
   "cell_type": "code",
   "execution_count": 11,
   "id": "6d771d27",
   "metadata": {},
   "outputs": [],
   "source": [
    "class Solution(object):\n",
    "    def searchRange(self, nums, target):\n",
    "        start = -1\n",
    "        end = -1\n",
    "        \n",
    "        for idx, num in enumerate(nums):\n",
    "            if num == target:\n",
    "                if start == -1:\n",
    "                    start = idx\n",
    "                end = idx\n",
    "        \n",
    "        return [start, end]"
   ]
  },
  {
   "cell_type": "code",
   "execution_count": 12,
   "id": "86ad1bc2",
   "metadata": {},
   "outputs": [
    {
     "data": {
      "text/plain": [
       "[3, 4]"
      ]
     },
     "execution_count": 12,
     "metadata": {},
     "output_type": "execute_result"
    }
   ],
   "source": [
    "nums = [5,7,7,8,8,10]\n",
    "target = 8\n",
    "obj = Solution()\n",
    "obj.searchRange(nums, target)"
   ]
  },
  {
   "cell_type": "code",
   "execution_count": null,
   "id": "0e5a7d3c",
   "metadata": {},
   "outputs": [],
   "source": []
  }
 ],
 "metadata": {
  "kernelspec": {
   "display_name": "Python 3 (ipykernel)",
   "language": "python",
   "name": "python3"
  },
  "language_info": {
   "codemirror_mode": {
    "name": "ipython",
    "version": 3
   },
   "file_extension": ".py",
   "mimetype": "text/x-python",
   "name": "python",
   "nbconvert_exporter": "python",
   "pygments_lexer": "ipython3",
   "version": "3.11.7"
  }
 },
 "nbformat": 4,
 "nbformat_minor": 5
}
