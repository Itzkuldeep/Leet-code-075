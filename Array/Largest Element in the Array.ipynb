{
 "cells": [
  {
   "cell_type": "markdown",
   "id": "3bc464fb",
   "metadata": {},
   "source": [
    "Q. Given an array ‘arr’ of size ‘n’ find the largest element in the array."
   ]
  },
  {
   "cell_type": "code",
   "execution_count": 2,
   "id": "f17ecb0b",
   "metadata": {},
   "outputs": [],
   "source": [
    "def largestElement(arr: [], n: int) -> int:\n",
    "    max = arr[0]\n",
    "\n",
    "    for i in range(0,n):\n",
    "        if (max < arr[i]):\n",
    "            max = arr[i]\n",
    "    return max"
   ]
  },
  {
   "cell_type": "code",
   "execution_count": null,
   "id": "e75e9e1b",
   "metadata": {},
   "outputs": [],
   "source": []
  }
 ],
 "metadata": {
  "kernelspec": {
   "display_name": "Python 3 (ipykernel)",
   "language": "python",
   "name": "python3"
  },
  "language_info": {
   "codemirror_mode": {
    "name": "ipython",
    "version": 3
   },
   "file_extension": ".py",
   "mimetype": "text/x-python",
   "name": "python",
   "nbconvert_exporter": "python",
   "pygments_lexer": "ipython3",
   "version": "3.11.7"
  }
 },
 "nbformat": 4,
 "nbformat_minor": 5
}
