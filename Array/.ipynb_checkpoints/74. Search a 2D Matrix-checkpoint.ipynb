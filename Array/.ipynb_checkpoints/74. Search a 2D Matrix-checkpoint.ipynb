{
 "cells": [
  {
   "cell_type": "markdown",
   "id": "7d6622a7",
   "metadata": {},
   "source": [
    "You are given an m x n integer matrix matrix with the following two properties:\n",
    "\n",
    "Each row is sorted in non-decreasing order.\n",
    "The first integer of each row is greater than the last integer of the previous row.\n",
    "Given an integer target, return true if target is in matrix or false otherwise.\n",
    "\n",
    "You must write a solution in O(log(m * n)) time complexity.\n",
    "\n",
    "-----------------------------------------------------------------------------------------\n",
    "-----------------------------------------------------------------------------------------"
   ]
  },
  {
   "cell_type": "markdown",
   "id": "7f767ae9",
   "metadata": {},
   "source": [
    "Intuition\n",
    "If we flatten the given 2D matrix to a 1D array, the 1D array will also be sorted. By utilizing binary search on this sorted 1D array to locate the 'target' element, we can further decrease the time complexity. The flattening will be like the following:\n",
    "\n",
    "\n",
    "But if we really try to flatten the 2D matrix, it will take O(N x M) time complexity and extra space to store the 1D array. In that case, it will not be the optimal solution anymore.\n",
    "\n",
    "How to apply binary search on the 1D array without actually flattening the 2D matrix:\n",
    "\n",
    "If we can figure out how to convert the index of the 1D array into the corresponding cell number in the 2D matrix, our task will be complete. In this scenario, we will use the binary search with the indices of the imaginary 1D array, ranging from 0 to (NxM)-1(total no. of elements in the 1D array = NxM). When comparing elements, we will convert the index to the cell number and retrieve the element. Thus we can apply binary search in the imaginary 1D array.\n",
    "\n",
    "How to convert 1D array index to the corresponding cell of the 2D matrix:\n",
    "\n",
    "We will use the following formula:\n",
    "\n",
    "If index = i, and no. of columns in the matrix = m, the index i corresponds to the cell with\n",
    "row = i / m and col = i % m. More formally, the cell is (i / m, i % m)(0-based indexing).\n",
    "\n",
    "\n",
    "The range of the indices of the imaginary 1D array is [0, (NxM)-1] and in this range, we will apply binary search.\n",
    "\n",
    "Algorithm:\n",
    "\n",
    "Place the 2 pointers i.e. low and high: Initially, we will place the pointers. The pointer low will point to 0 and the high will point to (NxM)-1.\n",
    "Calculate the ‘mid’: Now, inside the loop, we will calculate the value of ‘mid’ using the following formula:\n",
    "mid = (low+high) // 2 ( ‘//’ refers to integer division)\n",
    "Eliminate the halves based on the element at index mid: To get the element, we will convert index ‘mid’ to the corresponding cell using the above formula. Here no. of columns of the matrix = M.\n",
    "row = mid / M, col = mid % M.\n",
    "If matrix[row][col] == target: We should return true here, as we have found the ‘target’.\n",
    "If matrix[row][col] < target: In this case, we need bigger elements. So, we will eliminate the left half and consider the right half (low = mid+1).\n",
    "If matrix[row][col] > target: In this case, we need smaller elements. So, we will eliminate the right half and consider the left half (high = mid-1).\n",
    "Steps 2-3 will be inside a while loop and the loop will end once low crosses high\n",
    "(i.e. low > high). If we are out of the loop, we can say the target does not exist in the matrix. So, we will return false."
   ]
  },
  {
   "cell_type": "code",
   "execution_count": 1,
   "id": "41ee294e",
   "metadata": {},
   "outputs": [],
   "source": [
    "class Solution(object):\n",
    "    def searchMatrix(self, matrix, target):\n",
    "        n = len(matrix)\n",
    "        m = len(matrix[0])\n",
    "\n",
    "        # apply binary search:\n",
    "        low = 0\n",
    "        high = n * m - 1\n",
    "        while low <= high:\n",
    "            mid = (low + high) // 2\n",
    "            row = mid // m\n",
    "            col = mid % m\n",
    "            if matrix[row][col] == target:\n",
    "                return True\n",
    "            elif matrix[row][col] < target:\n",
    "                low = mid + 1\n",
    "            else:\n",
    "                high = mid - 1\n",
    "        return False\n",
    "            "
   ]
  },
  {
   "cell_type": "code",
   "execution_count": null,
   "id": "48117cbc",
   "metadata": {},
   "outputs": [],
   "source": []
  }
 ],
 "metadata": {
  "kernelspec": {
   "display_name": "Python 3 (ipykernel)",
   "language": "python",
   "name": "python3"
  },
  "language_info": {
   "codemirror_mode": {
    "name": "ipython",
    "version": 3
   },
   "file_extension": ".py",
   "mimetype": "text/x-python",
   "name": "python",
   "nbconvert_exporter": "python",
   "pygments_lexer": "ipython3",
   "version": "3.11.7"
  }
 },
 "nbformat": 4,
 "nbformat_minor": 5
}
