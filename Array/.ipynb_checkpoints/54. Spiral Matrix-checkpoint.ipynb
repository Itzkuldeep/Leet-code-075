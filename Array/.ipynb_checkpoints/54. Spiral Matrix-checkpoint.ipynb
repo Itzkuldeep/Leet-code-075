{
 "cells": [
  {
   "cell_type": "markdown",
   "id": "c75832cd",
   "metadata": {},
   "source": [
    "Given an m x n matrix, return all elements of the matrix in spiral order."
   ]
  },
  {
   "cell_type": "code",
   "execution_count": 1,
   "id": "a991ed1e",
   "metadata": {},
   "outputs": [],
   "source": [
    "class Solution(object):\n",
    "    def spiralOrder(self, matrix):\n",
    "        ans = []\n",
    "\n",
    "        n = len(matrix)\n",
    "        m = len(matrix[0])\n",
    "\n",
    "        top = 0 \n",
    "        left = 0\n",
    "        bottom = n - 1\n",
    "        right = m - 1\n",
    "\n",
    "\n",
    "        while (top <= bottom and left <= right):\n",
    "            for i in range(left, right + 1):\n",
    "                ans.append(matrix[top][i])\n",
    "\n",
    "            top += 1\n",
    "\n",
    "            # For moving top to bottom.\n",
    "            for i in range(top, bottom + 1):\n",
    "                ans.append(matrix[i][right])\n",
    "\n",
    "            right -= 1\n",
    "\n",
    "            # For moving right to left.\n",
    "            if (top <= bottom):\n",
    "                for i in range(right, left - 1, -1):\n",
    "                    ans.append(matrix[bottom][i])\n",
    "\n",
    "                bottom -= 1\n",
    "\n",
    "            # For moving bottom to top.\n",
    "            if (left <= right):\n",
    "                for i in range(bottom, top - 1, -1):\n",
    "                    ans.append(matrix[i][left])\n",
    "\n",
    "                left += 1\n",
    "\n",
    "        return ans\n",
    "        "
   ]
  },
  {
   "cell_type": "code",
   "execution_count": null,
   "id": "92c3cc26",
   "metadata": {},
   "outputs": [],
   "source": []
  }
 ],
 "metadata": {
  "kernelspec": {
   "display_name": "Python 3 (ipykernel)",
   "language": "python",
   "name": "python3"
  },
  "language_info": {
   "codemirror_mode": {
    "name": "ipython",
    "version": 3
   },
   "file_extension": ".py",
   "mimetype": "text/x-python",
   "name": "python",
   "nbconvert_exporter": "python",
   "pygments_lexer": "ipython3",
   "version": "3.11.7"
  }
 },
 "nbformat": 4,
 "nbformat_minor": 5
}
