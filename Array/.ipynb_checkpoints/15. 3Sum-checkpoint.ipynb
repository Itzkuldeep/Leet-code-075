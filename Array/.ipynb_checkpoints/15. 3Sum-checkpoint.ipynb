{
 "cells": [
  {
   "cell_type": "markdown",
   "id": "9ab0cdfc",
   "metadata": {},
   "source": [
    "Q. Given an integer array nums, return all the triplets [nums[i], nums[j], nums[k]] such that i != j, i != k, and j != k, and nums[i] + nums[j] + nums[k] == 0."
   ]
  },
  {
   "cell_type": "code",
   "execution_count": 2,
   "id": "774c1bed",
   "metadata": {},
   "outputs": [],
   "source": [
    "class Solution:\n",
    "    def threeSum(self, nums):\n",
    "        res = []\n",
    "        nums.sort()\n",
    "\n",
    "        for i, a in enumerate(nums):\n",
    "            # Skip positive integers\n",
    "            if a > 0:\n",
    "                break\n",
    "\n",
    "            if i > 0 and a == nums[i - 1]:\n",
    "                continue\n",
    "\n",
    "            l, r = i + 1, len(nums) - 1\n",
    "            while l < r:\n",
    "                threeSum = a + nums[l] + nums[r]\n",
    "                if threeSum > 0:\n",
    "                    r -= 1\n",
    "                elif threeSum < 0:\n",
    "                    l += 1\n",
    "                else:\n",
    "                    res.append([a, nums[l], nums[r]])\n",
    "                    l += 1\n",
    "                    r -= 1\n",
    "                    while nums[l] == nums[l - 1] and l < r:\n",
    "                        l += 1\n",
    "                        \n",
    "        return res"
   ]
  },
  {
   "cell_type": "code",
   "execution_count": 5,
   "id": "4909b57b",
   "metadata": {},
   "outputs": [],
   "source": [
    "class Solution(object):\n",
    "    def threeSum(self, nums):\n",
    "        arr = []\n",
    "        nums.sort()\n",
    "        \n",
    "        for i in enumerate(nums):\n",
    "            if i != 0 and arr[i] == arr[i-1]:\n",
    "                continue\n",
    "            \n",
    "            l = i+1\n",
    "            r = len(nums) - 1\n",
    "            \n",
    "            while l < r:\n",
    "                new = nums[i] + nums[j] + nums[k]\n",
    "                if new < 0:\n",
    "                    j += 1\n",
    "                elif new > 0:\n",
    "                    k -= 1\n",
    "                else:\n",
    "                    arr.append([arr[i], arr[j], arr[k]])\n",
    "                    j += 1\n",
    "                    k -= 1\n",
    "                    while j < k and arr[j] == (arr[j] -1):\n",
    "                        j += 1\n",
    "                    while j < k and arr[k] == (arr[k] + 1):\n",
    "                        k -= 1\n",
    "        return arr"
   ]
  },
  {
   "cell_type": "code",
   "execution_count": null,
   "id": "7ccf6e9f",
   "metadata": {},
   "outputs": [],
   "source": []
  }
 ],
 "metadata": {
  "kernelspec": {
   "display_name": "Python 3 (ipykernel)",
   "language": "python",
   "name": "python3"
  },
  "language_info": {
   "codemirror_mode": {
    "name": "ipython",
    "version": 3
   },
   "file_extension": ".py",
   "mimetype": "text/x-python",
   "name": "python",
   "nbconvert_exporter": "python",
   "pygments_lexer": "ipython3",
   "version": "3.11.7"
  }
 },
 "nbformat": 4,
 "nbformat_minor": 5
}
