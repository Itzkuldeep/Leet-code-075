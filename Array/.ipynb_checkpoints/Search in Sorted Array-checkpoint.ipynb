{
 "cells": [
  {
   "cell_type": "code",
   "execution_count": 5,
   "id": "4c72c65d",
   "metadata": {},
   "outputs": [
    {
     "name": "stdout",
     "output_type": "stream",
     "text": [
      "1457\n",
      "4545489\n"
     ]
    },
    {
     "ename": "IndexError",
     "evalue": "list index out of range",
     "output_type": "error",
     "traceback": [
      "\u001b[1;31m---------------------------------------------------------------------------\u001b[0m",
      "\u001b[1;31mIndexError\u001b[0m                                Traceback (most recent call last)",
      "Cell \u001b[1;32mIn[5], line 22\u001b[0m\n\u001b[0;32m     20\u001b[0m NK \u001b[38;5;241m=\u001b[39m \u001b[38;5;28minput\u001b[39m()\u001b[38;5;241m.\u001b[39mstrip()\u001b[38;5;241m.\u001b[39msplit()\n\u001b[0;32m     21\u001b[0m N \u001b[38;5;241m=\u001b[39m \u001b[38;5;28mint\u001b[39m(NK[\u001b[38;5;241m0\u001b[39m])\n\u001b[1;32m---> 22\u001b[0m K \u001b[38;5;241m=\u001b[39m \u001b[38;5;28mint\u001b[39m(NK[\u001b[38;5;241m1\u001b[39m])\n\u001b[0;32m     23\u001b[0m A \u001b[38;5;241m=\u001b[39m [ \u001b[38;5;28mint\u001b[39m(x) \u001b[38;5;28;01mfor\u001b[39;00m x \u001b[38;5;129;01min\u001b[39;00m \u001b[38;5;28minput\u001b[39m()\u001b[38;5;241m.\u001b[39mstrip()\u001b[38;5;241m.\u001b[39msplit() ]\n\u001b[0;32m     24\u001b[0m ob\u001b[38;5;241m=\u001b[39mSolution()\n",
      "\u001b[1;31mIndexError\u001b[0m: list index out of range"
     ]
    }
   ],
   "source": [
    "#User function Template for python3\n",
    "\n",
    "class Solution:\n",
    "    ##Complete this function\n",
    "    def searchInSorted(self,arr, N, K):\n",
    "        if K in arr:\n",
    "            return 1\n",
    "        else:\n",
    "            return -1\n",
    "\n",
    "\n",
    "#{ \n",
    " # Driver Code Starts\n",
    "#Initial Template for Python 3\n",
    "\n",
    "import math\n",
    "if __name__ == '__main__': \n",
    "\tt = int(input())\n",
    "\tfor _ in range(t):\n",
    "\t\tNK = input().strip().split()\n",
    "\t\tN = int(NK[0])\n",
    "\t\tK = int(NK[1])\n",
    "\t\tA = [ int(x) for x in input().strip().split() ]\n",
    "\t\tob=Solution()\n",
    "\t\tprint(ob.searchInSorted(A,N,K))\n",
    "\n",
    "# } Driver Code Ends"
   ]
  },
  {
   "cell_type": "code",
   "execution_count": null,
   "id": "feebdf98",
   "metadata": {},
   "outputs": [],
   "source": []
  }
 ],
 "metadata": {
  "kernelspec": {
   "display_name": "Python 3 (ipykernel)",
   "language": "python",
   "name": "python3"
  },
  "language_info": {
   "codemirror_mode": {
    "name": "ipython",
    "version": 3
   },
   "file_extension": ".py",
   "mimetype": "text/x-python",
   "name": "python",
   "nbconvert_exporter": "python",
   "pygments_lexer": "ipython3",
   "version": "3.11.7"
  }
 },
 "nbformat": 4,
 "nbformat_minor": 5
}
