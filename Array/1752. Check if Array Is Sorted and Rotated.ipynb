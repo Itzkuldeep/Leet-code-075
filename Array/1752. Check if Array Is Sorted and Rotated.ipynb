{
 "cells": [
  {
   "cell_type": "markdown",
   "id": "536b9505",
   "metadata": {},
   "source": [
    "Given an array nums, return true if the array was originally sorted in non-decreasing order, then rotated some number of positions (including zero). Otherwise, return false.\n",
    "\n",
    "There may be duplicates in the original array.\n",
    "\n",
    "Note: An array A rotated by x positions results in an array B of the same length such that A[i] == B[(i+x) % A.length], where % is the modulo operation."
   ]
  },
  {
   "cell_type": "code",
   "execution_count": 3,
   "id": "1496a637",
   "metadata": {},
   "outputs": [],
   "source": [
    "class Solution(object):\n",
    "    def check(self,nums):\n",
    "        Sorted = sorted(nums)\n",
    "        \n",
    "        for start in range(len(nums)):\n",
    "            if nums[start: ] + nums[ :start] == Sorted:\n",
    "                return True\n",
    "        return False \n",
    "    "
   ]
  },
  {
   "cell_type": "code",
   "execution_count": null,
   "id": "ec070e25",
   "metadata": {},
   "outputs": [],
   "source": []
  }
 ],
 "metadata": {
  "kernelspec": {
   "display_name": "Python 3 (ipykernel)",
   "language": "python",
   "name": "python3"
  },
  "language_info": {
   "codemirror_mode": {
    "name": "ipython",
    "version": 3
   },
   "file_extension": ".py",
   "mimetype": "text/x-python",
   "name": "python",
   "nbconvert_exporter": "python",
   "pygments_lexer": "ipython3",
   "version": "3.11.7"
  }
 },
 "nbformat": 4,
 "nbformat_minor": 5
}
