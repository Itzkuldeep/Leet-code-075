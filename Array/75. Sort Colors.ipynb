{
 "cells": [
  {
   "cell_type": "markdown",
   "id": "969dd3e4",
   "metadata": {},
   "source": [
    "Given an array nums with n objects colored red, white, or blue, sort them in-place so that objects of the same color are adjacent, with the colors in the order red, white, and blue.\n",
    "\n",
    "We will use the integers 0, 1, and 2 to represent the color red, white, and blue, respectively.\n",
    "\n",
    "You must solve this problem without using the library's sort function."
   ]
  },
  {
   "cell_type": "code",
   "execution_count": 1,
   "id": "df3eddd3",
   "metadata": {},
   "outputs": [],
   "source": [
    "class Solution(object):\n",
    "    def sortColors(self, nums):\n",
    "        mid = 0\n",
    "        low = 0\n",
    "        high = len(nums) - 1\n",
    "        while mid <= high:\n",
    "            if nums[mid] == 0:\n",
    "                nums[mid], nums[low] = nums[low], nums[mid]\n",
    "                mid += 1\n",
    "                low += 1\n",
    "            elif nums[mid] == 1:\n",
    "                mid += 1\n",
    "            elif nums[mid] == 2:\n",
    "                nums[mid], nums[high] = nums[high], nums[mid]\n",
    "                high -= 1"
   ]
  },
  {
   "cell_type": "code",
   "execution_count": null,
   "id": "8a705c0c",
   "metadata": {},
   "outputs": [],
   "source": []
  }
 ],
 "metadata": {
  "kernelspec": {
   "display_name": "Python 3 (ipykernel)",
   "language": "python",
   "name": "python3"
  },
  "language_info": {
   "codemirror_mode": {
    "name": "ipython",
    "version": 3
   },
   "file_extension": ".py",
   "mimetype": "text/x-python",
   "name": "python",
   "nbconvert_exporter": "python",
   "pygments_lexer": "ipython3",
   "version": "3.11.7"
  }
 },
 "nbformat": 4,
 "nbformat_minor": 5
}
