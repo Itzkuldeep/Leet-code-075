{
 "cells": [
  {
   "cell_type": "markdown",
   "id": "55156d6c",
   "metadata": {},
   "source": [
    "### *Contains Duplicate* \n",
    "\n",
    "   Q. Given an integer array nums, return true if any value appears at least twice in the array, and return false if every element is distinct."
   ]
  },
  {
   "cell_type": "code",
   "execution_count": 2,
   "id": "4f0e2c78",
   "metadata": {},
   "outputs": [],
   "source": [
    "#this method give solution but it exceeds the Time limit, so we'll use Hashset\n",
    "class Solution(object):\n",
    "    def containsDuplicate(self, nums):\n",
    "        hashset = set()\n",
    "#         List = []\n",
    "        \n",
    "        for i in nums:\n",
    "            if i in List:\n",
    "                return True\n",
    "            hashset.add(i)\n",
    "#             List.append(i)\n",
    "                \n",
    "        return False\n",
    "    "
   ]
  },
  {
   "cell_type": "markdown",
   "id": "408cf61e",
   "metadata": {},
   "source": [
    "### *Valid Anagram* \n",
    "\n",
    "   Q. Given two strings s and t, return true if t is an anagram of s, and false otherwise.\n",
    "\n",
    "An Anagram is a word or phrase formed by rearranging the letters of a different word or phrase, typically using all the original letters exactly once."
   ]
  },
  {
   "cell_type": "code",
   "execution_count": 5,
   "id": "d0f19c10",
   "metadata": {},
   "outputs": [],
   "source": [
    "class Solution(object):\n",
    "    def isAnagram(self, s, t):\n",
    "        if len(s) != len(t):\n",
    "            return False\n",
    "\n",
    "        countS = {}\n",
    "        countT = {}\n",
    "\n",
    "        for i in range(len(s)):\n",
    "            countS[s[i]] = 1 + countS.get(s[i], 0)\n",
    "            countT[t[i]] = 1 + countT.get(t[i], 0)\n",
    "        \n",
    "        for c in countS:\n",
    "            if countS[c] != countT.get(c, 0):\n",
    "                return False\n",
    "\n",
    "        return True"
   ]
  },
  {
   "cell_type": "markdown",
   "id": "b7efdecd",
   "metadata": {},
   "source": [
    "### *TWO SUM*\n",
    "\n",
    "    Q. Given an array of integers nums and an integer target, return indices of the two numbers such that they add up to target.\n"
   ]
  },
  {
   "cell_type": "code",
   "execution_count": 121,
   "id": "0e8a2673",
   "metadata": {},
   "outputs": [],
   "source": [
    "nums1 = [2,7,11,15]\n",
    "target2 = 9\n",
    "\n",
    "nums = [3,2,4]\n",
    "target = 6\n"
   ]
  },
  {
   "cell_type": "code",
   "execution_count": 122,
   "id": "7ba6072e",
   "metadata": {},
   "outputs": [],
   "source": [
    "#self try\n",
    "class Solution(object):\n",
    "    def twoSum(self, nums, target):\n",
    "        for i in range(len(nums) - 1):\n",
    "            if nums[i] + nums[i+1] == target:\n",
    "                num1 = nums[i]\n",
    "                num2 = nums[i+1]\n",
    "                i += 1\n",
    "                return i,i+1\n",
    "        "
   ]
  },
  {
   "cell_type": "code",
   "execution_count": 123,
   "id": "03ef2d0d",
   "metadata": {},
   "outputs": [],
   "source": [
    "#chatGPT\n",
    "class Solution(object):\n",
    "    def twoSum(self, nums, target):\n",
    "        n = len(nums)\n",
    "        for i in range(n):\n",
    "            for j in range(i + 1, n):\n",
    "                if nums[i] + nums[j] == target:\n",
    "                    return i, j"
   ]
  },
  {
   "cell_type": "code",
   "execution_count": 127,
   "id": "637c8f68",
   "metadata": {},
   "outputs": [],
   "source": [
    "obj = Solution()"
   ]
  },
  {
   "cell_type": "code",
   "execution_count": 128,
   "id": "e91b5a3c",
   "metadata": {},
   "outputs": [
    {
     "data": {
      "text/plain": [
       "(0, 2)"
      ]
     },
     "execution_count": 128,
     "metadata": {},
     "output_type": "execute_result"
    }
   ],
   "source": [
    "obj.twoSum(nums, target)"
   ]
  },
  {
   "cell_type": "markdown",
   "id": "0046e5ab",
   "metadata": {},
   "source": [
    "### *Group Anagrams* \n",
    "\n",
    "  Q.  Given an array of strings strs, group the anagrams together. You can return the answer in any order."
   ]
  },
  {
   "cell_type": "code",
   "execution_count": null,
   "id": "aeba2b31",
   "metadata": {},
   "outputs": [],
   "source": [
    "from collections import defaultdict\n",
    "\n",
    "class Solution(object):\n",
    "    def groupAnagrams(self, strs):\n",
    "        res = defaultdict(list) # Mapping charCount\n",
    "        \n",
    "        for s in strs:\n",
    "            count = [0] * 26 # Initialize with zeros\n",
    "            \n",
    "            for c in s:\n",
    "                count[ord(c) - ord(\"a\")] += 1\n",
    "                \n",
    "            res[tuple(count)].append(s)\n",
    "            \n",
    "        return res.values()\n"
   ]
  },
  {
   "cell_type": "markdown",
   "id": "d566a26b",
   "metadata": {},
   "source": [
    "### Top K Frequent Elements\n",
    "\n",
    "    Q. Given an integer array nums and an integer k, return the k most frequent elements. You may return the answer in any order."
   ]
  },
  {
   "cell_type": "code",
   "execution_count": 73,
   "id": "b1e9dd81",
   "metadata": {},
   "outputs": [],
   "source": [
    "nums = [1,1,1,2,2,3]\n",
    "k = 2\n",
    "arr = []\n",
    "count = 0\n",
    "for i in range(1,len(nums)):\n",
    "    for j in range(0,i):\n",
    "        if nums[i] == nums[j]:\n",
    "            count += 1\n",
    "            if count >= k:\n",
    "                arr.append(nums[i])"
   ]
  },
  {
   "cell_type": "code",
   "execution_count": 74,
   "id": "ee5c7884",
   "metadata": {},
   "outputs": [
    {
     "data": {
      "text/plain": [
       "[1, 1, 2]"
      ]
     },
     "execution_count": 74,
     "metadata": {},
     "output_type": "execute_result"
    }
   ],
   "source": [
    "arr"
   ]
  },
  {
   "cell_type": "code",
   "execution_count": 45,
   "id": "31e4ec4d",
   "metadata": {},
   "outputs": [],
   "source": [
    "count = 0\n",
    "arr = []\n",
    "for i in range(len(nums)):\n",
    "    for j in range(0,i):\n",
    "        if nums[i] == nums[j]:\n",
    "            count += 1\n",
    "            if count >= k:\n",
    "                arr.append(i)"
   ]
  },
  {
   "cell_type": "code",
   "execution_count": 46,
   "id": "259279fd",
   "metadata": {},
   "outputs": [
    {
     "data": {
      "text/plain": [
       "[2, 2, 4]"
      ]
     },
     "execution_count": 46,
     "metadata": {},
     "output_type": "execute_result"
    }
   ],
   "source": [
    "arr"
   ]
  },
  {
   "cell_type": "code",
   "execution_count": 108,
   "id": "69d70955",
   "metadata": {},
   "outputs": [],
   "source": [
    "#self try\n",
    "nums = [1,2,3,3,5,1,5,5]\n",
    "k = 2\n",
    "class Solution(object):\n",
    "    def topKFrequent(self, nums, k):\n",
    "        arr = []\n",
    "        count = 0\n",
    "        for i in range(1,len(nums)):\n",
    "            for j in range(0,i):\n",
    "                if nums[i] == nums[j]:\n",
    "                    count += 1\n",
    "                    if count >= k:\n",
    "                        if nums[i] in arr:\n",
    "                            pass\n",
    "                        else:\n",
    "                            arr.append(nums[i])\n",
    "        return arr"
   ]
  },
  {
   "cell_type": "code",
   "execution_count": 109,
   "id": "c002e91a",
   "metadata": {},
   "outputs": [
    {
     "data": {
      "text/plain": [
       "[]"
      ]
     },
     "execution_count": 109,
     "metadata": {},
     "output_type": "execute_result"
    }
   ],
   "source": [
    "class Solution(object):\n",
    "    def topKFrequent(self, nums, k):\n",
    "        if k >= len(nums):\n",
    "            return nums\n",
    "        \n",
    "        freq_map = {}\n",
    "        for num in nums:\n",
    "            if num in freq_map:\n",
    "                freq_map[num] += 1\n",
    "            else:\n",
    "                freq_map[num] = 1\n",
    "        \n",
    "        sorted_freq = sorted(freq_map.items(), key=lambda x: x[1], reverse=True)\n",
    "        top_k = []\n",
    "        for i in range(k):\n",
    "            top_k.append(sorted_freq[i][0])\n",
    "        return top_k\n"
   ]
  },
  {
   "cell_type": "code",
   "execution_count": 104,
   "id": "0f1134fd",
   "metadata": {},
   "outputs": [
    {
     "data": {
      "text/plain": [
       "1"
      ]
     },
     "execution_count": 104,
     "metadata": {},
     "output_type": "execute_result"
    }
   ],
   "source": [
    "len(nums)"
   ]
  },
  {
   "cell_type": "code",
   "execution_count": 105,
   "id": "f826dce1",
   "metadata": {},
   "outputs": [
    {
     "data": {
      "text/plain": [
       "[]"
      ]
     },
     "execution_count": 105,
     "metadata": {},
     "output_type": "execute_result"
    }
   ],
   "source": [
    "arr"
   ]
  },
  {
   "cell_type": "code",
   "execution_count": null,
   "id": "36858aaf",
   "metadata": {},
   "outputs": [],
   "source": []
  }
 ],
 "metadata": {
  "kernelspec": {
   "display_name": "Python 3 (ipykernel)",
   "language": "python",
   "name": "python3"
  },
  "language_info": {
   "codemirror_mode": {
    "name": "ipython",
    "version": 3
   },
   "file_extension": ".py",
   "mimetype": "text/x-python",
   "name": "python",
   "nbconvert_exporter": "python",
   "pygments_lexer": "ipython3",
   "version": "3.11.7"
  }
 },
 "nbformat": 4,
 "nbformat_minor": 5
}
