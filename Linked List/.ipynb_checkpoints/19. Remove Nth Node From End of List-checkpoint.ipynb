{
 "cells": [
  {
   "cell_type": "markdown",
   "id": "f3e6a1a8",
   "metadata": {},
   "source": [
    "Given the head of a linked list, remove the nth node from the end of the list and return its head."
   ]
  },
  {
   "cell_type": "code",
   "execution_count": null,
   "id": "45e4a6ae",
   "metadata": {},
   "outputs": [],
   "source": [
    "# Definition for singly-linked list.\n",
    "class ListNode(object):\n",
    "    def __init__(self, val=0, next=None):\n",
    "        self.val = val\n",
    "        self.next = next\n",
    "class Solution(object):\n",
    "    def removeNthFromEnd(self, head, n):\n",
    "        dummy = ListNode(0, head)\n",
    "        right = head\n",
    "        leaft = dummy\n",
    "        \n",
    "        while n > 0:\n",
    "            right = right.next\n",
    "            n -= 1\n",
    "            \n",
    "        while right:\n",
    "            left = left.next\n",
    "            right = right.next\n",
    "            \n",
    "        left = left.next.next\n",
    "        \n",
    "        return dummy.next"
   ]
  }
 ],
 "metadata": {
  "kernelspec": {
   "display_name": "Python 3 (ipykernel)",
   "language": "python",
   "name": "python3"
  },
  "language_info": {
   "codemirror_mode": {
    "name": "ipython",
    "version": 3
   },
   "file_extension": ".py",
   "mimetype": "text/x-python",
   "name": "python",
   "nbconvert_exporter": "python",
   "pygments_lexer": "ipython3",
   "version": "3.11.7"
  }
 },
 "nbformat": 4,
 "nbformat_minor": 5
}
