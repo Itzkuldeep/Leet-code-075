{
 "cells": [
  {
   "cell_type": "code",
   "execution_count": 13,
   "id": "bece95c0",
   "metadata": {},
   "outputs": [
    {
     "ename": "SyntaxError",
     "evalue": "incomplete input (1924003626.py, line 9)",
     "output_type": "error",
     "traceback": [
      "\u001b[1;36m  Cell \u001b[1;32mIn[13], line 9\u001b[1;36m\u001b[0m\n\u001b[1;33m    \u001b[0m\n\u001b[1;37m    ^\u001b[0m\n\u001b[1;31mSyntaxError\u001b[0m\u001b[1;31m:\u001b[0m incomplete input\n"
     ]
    }
   ],
   "source": [
    "# Definition for singly-linked list.\n",
    "# class ListNode(object):\n",
    "#     def __init__(self, val=0, next=None):\n",
    "#         self.val = val\n",
    "#         self.next = next\n",
    "class Solution(object):\n",
    "    def removeElements(self, head, val):\n",
    "        start = []\n",
    "        end = []\n",
    "        for i in range(0, self.head):\n",
    "            if self.val != val:\n",
    "                return Fl\n",
    "            "
   ]
  },
  {
   "cell_type": "code",
   "execution_count": 14,
   "id": "7273636d",
   "metadata": {},
   "outputs": [
    {
     "ename": "NameError",
     "evalue": "name 'removeElements' is not defined",
     "output_type": "error",
     "traceback": [
      "\u001b[1;31m---------------------------------------------------------------------------\u001b[0m",
      "\u001b[1;31mNameError\u001b[0m                                 Traceback (most recent call last)",
      "Cell \u001b[1;32mIn[14], line 4\u001b[0m\n\u001b[0;32m      2\u001b[0m head \u001b[38;5;241m=\u001b[39m [\u001b[38;5;241m1\u001b[39m,\u001b[38;5;241m2\u001b[39m,\u001b[38;5;241m6\u001b[39m,\u001b[38;5;241m3\u001b[39m,\u001b[38;5;241m4\u001b[39m,\u001b[38;5;241m5\u001b[39m,\u001b[38;5;241m6\u001b[39m]\n\u001b[0;32m      3\u001b[0m val \u001b[38;5;241m=\u001b[39m \u001b[38;5;241m6\u001b[39m\n\u001b[1;32m----> 4\u001b[0m removeElements(head,val)\n\u001b[0;32m      5\u001b[0m \u001b[38;5;28mprint\u001b[39m(head)\n",
      "\u001b[1;31mNameError\u001b[0m: name 'removeElements' is not defined"
     ]
    }
   ],
   "source": [
    "if __name__ == \"__main__\":\n",
    "    head = [1,2,6,3,4,5,6]\n",
    "    val = 6\n",
    "    removeElements(head,val)\n",
    "    print(head)"
   ]
  },
  {
   "cell_type": "code",
   "execution_count": 15,
   "id": "f369645e",
   "metadata": {},
   "outputs": [
    {
     "ename": "AttributeError",
     "evalue": "'Solution' object has no attribute 'head'",
     "output_type": "error",
     "traceback": [
      "\u001b[1;31m---------------------------------------------------------------------------\u001b[0m",
      "\u001b[1;31mAttributeError\u001b[0m                            Traceback (most recent call last)",
      "Cell \u001b[1;32mIn[15], line 4\u001b[0m\n\u001b[0;32m      2\u001b[0m val \u001b[38;5;241m=\u001b[39m \u001b[38;5;241m6\u001b[39m\n\u001b[0;32m      3\u001b[0m obj \u001b[38;5;241m=\u001b[39m Solution()\n\u001b[1;32m----> 4\u001b[0m data \u001b[38;5;241m=\u001b[39m obj\u001b[38;5;241m.\u001b[39mremoveElements(head,val)\n\u001b[0;32m      5\u001b[0m \u001b[38;5;28mprint\u001b[39m(data)\n",
      "Cell \u001b[1;32mIn[10], line 8\u001b[0m, in \u001b[0;36mSolution.removeElements\u001b[1;34m(self, head, val)\u001b[0m\n\u001b[0;32m      7\u001b[0m \u001b[38;5;28;01mdef\u001b[39;00m \u001b[38;5;21mremoveElements\u001b[39m(\u001b[38;5;28mself\u001b[39m, head, val):\n\u001b[1;32m----> 8\u001b[0m     \u001b[38;5;28;01mfor\u001b[39;00m i \u001b[38;5;129;01min\u001b[39;00m \u001b[38;5;28mrange\u001b[39m(\u001b[38;5;241m0\u001b[39m, \u001b[38;5;28mlen\u001b[39m(\u001b[38;5;28mself\u001b[39m\u001b[38;5;241m.\u001b[39mhead)):\n\u001b[0;32m      9\u001b[0m         \u001b[38;5;28;01mif\u001b[39;00m i \u001b[38;5;241m==\u001b[39m val:\n\u001b[0;32m     10\u001b[0m             \u001b[38;5;28mself\u001b[39m\u001b[38;5;241m.\u001b[39mhead\u001b[38;5;241m.\u001b[39mpop(i)\n",
      "\u001b[1;31mAttributeError\u001b[0m: 'Solution' object has no attribute 'head'"
     ]
    }
   ],
   "source": [
    "head = [1,2,6,3,4,5,6]\n",
    "val = 6\n",
    "obj = Solution()\n",
    "data = obj.removeElements(head,val)\n",
    "print(data)"
   ]
  },
  {
   "cell_type": "code",
   "execution_count": 20,
   "id": "302d624b",
   "metadata": {},
   "outputs": [],
   "source": [
    "# Definition for singly-linked list.\n",
    "class ListNode(object):\n",
    "    def __init__(self, val=0, next=None):\n",
    "        self.val = val\n",
    "        self.next = next\n",
    "class Solution(object):\n",
    "    def removeElements(self, head, val):\n",
    "        dumy = ListNode(next=head)\n",
    "        prev, curr = dumy, head\n",
    "\n",
    "        while curr:\n",
    "            nxt = curr.next\n",
    "\n",
    "            if curr.val == val:\n",
    "                prev.next = nxt\n",
    "            else:\n",
    "                prev = curr\n",
    "\n",
    "            curr = nxt\n",
    "        return dumy.next"
   ]
  },
  {
   "cell_type": "code",
   "execution_count": 21,
   "id": "fe934612",
   "metadata": {},
   "outputs": [
    {
     "ename": "AttributeError",
     "evalue": "'list' object has no attribute 'next'",
     "output_type": "error",
     "traceback": [
      "\u001b[1;31m---------------------------------------------------------------------------\u001b[0m",
      "\u001b[1;31mAttributeError\u001b[0m                            Traceback (most recent call last)",
      "Cell \u001b[1;32mIn[21], line 4\u001b[0m\n\u001b[0;32m      2\u001b[0m val \u001b[38;5;241m=\u001b[39m \u001b[38;5;241m6\u001b[39m\n\u001b[0;32m      3\u001b[0m obj \u001b[38;5;241m=\u001b[39m Solution()\n\u001b[1;32m----> 4\u001b[0m data \u001b[38;5;241m=\u001b[39m obj\u001b[38;5;241m.\u001b[39mremoveElements(head,val)\n\u001b[0;32m      5\u001b[0m \u001b[38;5;28mprint\u001b[39m(data)\n",
      "Cell \u001b[1;32mIn[20], line 12\u001b[0m, in \u001b[0;36mSolution.removeElements\u001b[1;34m(self, head, val)\u001b[0m\n\u001b[0;32m      9\u001b[0m prev, curr \u001b[38;5;241m=\u001b[39m dumy, head\n\u001b[0;32m     11\u001b[0m \u001b[38;5;28;01mwhile\u001b[39;00m curr:\n\u001b[1;32m---> 12\u001b[0m     nxt \u001b[38;5;241m=\u001b[39m curr\u001b[38;5;241m.\u001b[39mnext\n\u001b[0;32m     14\u001b[0m     \u001b[38;5;28;01mif\u001b[39;00m curr\u001b[38;5;241m.\u001b[39mval \u001b[38;5;241m==\u001b[39m val:\n\u001b[0;32m     15\u001b[0m         prev\u001b[38;5;241m.\u001b[39mnext \u001b[38;5;241m=\u001b[39m nxt\n",
      "\u001b[1;31mAttributeError\u001b[0m: 'list' object has no attribute 'next'"
     ]
    }
   ],
   "source": [
    "head = [1,2,6,3,4,5,6]\n",
    "val = 6\n",
    "obj = Solution()\n",
    "data = obj.removeElements(head,val)\n",
    "print(data)"
   ]
  },
  {
   "cell_type": "code",
   "execution_count": null,
   "id": "fa7c7d3f",
   "metadata": {},
   "outputs": [],
   "source": []
  },
  {
   "cell_type": "code",
   "execution_count": null,
   "id": "a317dea8",
   "metadata": {},
   "outputs": [],
   "source": []
  }
 ],
 "metadata": {
  "kernelspec": {
   "display_name": "Python 3 (ipykernel)",
   "language": "python",
   "name": "python3"
  },
  "language_info": {
   "codemirror_mode": {
    "name": "ipython",
    "version": 3
   },
   "file_extension": ".py",
   "mimetype": "text/x-python",
   "name": "python",
   "nbconvert_exporter": "python",
   "pygments_lexer": "ipython3",
   "version": "3.11.7"
  }
 },
 "nbformat": 4,
 "nbformat_minor": 5
}
