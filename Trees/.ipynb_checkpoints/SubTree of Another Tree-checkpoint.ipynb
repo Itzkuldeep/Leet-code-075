{
 "cells": [
  {
   "cell_type": "code",
   "execution_count": null,
   "id": "e260604f",
   "metadata": {},
   "outputs": [],
   "source": [
    "# Definition for a binary tree node.\n",
    "# class TreeNode(object):\n",
    "#     def __init__(self, val=0, left=None, right=None):\n",
    "#         self.val = val\n",
    "#         self.left = left\n",
    "#         self.right = right\n",
    "class Solution(object):\n",
    "    def isSubtree(self, root, subroot):\n",
    "        if not subroot: return True\n",
    "        if not root: return False\n",
    "        if self.sameTree(root,subroot):\n",
    "            return True\n",
    "        return (self.isSubtree(root.left, subroot) or\n",
    "                self.isSubtree(root.right, subroot))\n",
    "       \n",
    "    \n",
    "    def sameTree(self, k, m):\n",
    "        if not k and not m:\n",
    "            return True\n",
    "        \n",
    "        if k and m and k.val == m.val:\n",
    "            return (self.sameTree(k.left,m.left) and\n",
    "                    self.sameTree(k.right, m.right))\n",
    "\n",
    "        return False"
   ]
  }
 ],
 "metadata": {
  "kernelspec": {
   "display_name": "Python 3 (ipykernel)",
   "language": "python",
   "name": "python3"
  },
  "language_info": {
   "codemirror_mode": {
    "name": "ipython",
    "version": 3
   },
   "file_extension": ".py",
   "mimetype": "text/x-python",
   "name": "python",
   "nbconvert_exporter": "python",
   "pygments_lexer": "ipython3",
   "version": "3.11.7"
  }
 },
 "nbformat": 4,
 "nbformat_minor": 5
}
