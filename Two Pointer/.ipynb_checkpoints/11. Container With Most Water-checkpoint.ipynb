{
 "cells": [
  {
   "cell_type": "code",
   "execution_count": 1,
   "id": "46a124e2",
   "metadata": {},
   "outputs": [],
   "source": [
    "class Solution(object):\n",
    "    def maxArea(self, height):\n",
    "        res = 0\n",
    "        l,r = 0, len(height) -1\n",
    "        \n",
    "        while l < r:\n",
    "            area = (r-l) * min(height[l], height[r])\n",
    "            res = max(res,area)\n",
    "            \n",
    "            if height[l] < height[r]:\n",
    "                l += 1\n",
    "            elif height[l] > height[r]:\n",
    "                r -= 1\n",
    "            else:\n",
    "                r -= 1\n",
    "        return res"
   ]
  },
  {
   "cell_type": "code",
   "execution_count": null,
   "id": "14082c68",
   "metadata": {},
   "outputs": [],
   "source": []
  }
 ],
 "metadata": {
  "kernelspec": {
   "display_name": "Python 3 (ipykernel)",
   "language": "python",
   "name": "python3"
  },
  "language_info": {
   "codemirror_mode": {
    "name": "ipython",
    "version": 3
   },
   "file_extension": ".py",
   "mimetype": "text/x-python",
   "name": "python",
   "nbconvert_exporter": "python",
   "pygments_lexer": "ipython3",
   "version": "3.11.7"
  }
 },
 "nbformat": 4,
 "nbformat_minor": 5
}
