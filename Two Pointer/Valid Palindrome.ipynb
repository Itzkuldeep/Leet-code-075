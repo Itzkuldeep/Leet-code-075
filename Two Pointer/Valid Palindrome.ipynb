{
 "cells": [
  {
   "cell_type": "code",
   "execution_count": 1,
   "id": "36827bc3",
   "metadata": {},
   "outputs": [
    {
     "data": {
      "text/plain": [
       "'amanaP :lanac a ,nalp a ,nam A'"
      ]
     },
     "execution_count": 1,
     "metadata": {},
     "output_type": "execute_result"
    }
   ],
   "source": [
    "s = \"A man, a plan, a canal: Panama\"\n",
    "s[::-1]"
   ]
  },
  {
   "cell_type": "code",
   "execution_count": 15,
   "id": "d070c992",
   "metadata": {},
   "outputs": [],
   "source": [
    "x = s.replace(':','')\n",
    "y = x.replace(',','')\n",
    "z = y.replace(' ','')"
   ]
  },
  {
   "cell_type": "code",
   "execution_count": 16,
   "id": "466a3bef",
   "metadata": {},
   "outputs": [
    {
     "data": {
      "text/plain": [
       "'amanaplanacanalpanama'"
      ]
     },
     "execution_count": 16,
     "metadata": {},
     "output_type": "execute_result"
    }
   ],
   "source": [
    "z.lower()"
   ]
  },
  {
   "cell_type": "code",
   "execution_count": 18,
   "id": "688188cc",
   "metadata": {},
   "outputs": [
    {
     "data": {
      "text/plain": [
       "'amanaPlanacanalpanamA'"
      ]
     },
     "execution_count": 18,
     "metadata": {},
     "output_type": "execute_result"
    }
   ],
   "source": [
    "z[::-1]"
   ]
  },
  {
   "cell_type": "code",
   "execution_count": 22,
   "id": "c15fbf70",
   "metadata": {},
   "outputs": [],
   "source": [
    "class Solution(object):\n",
    "    def isPalindrome(self, s):\n",
    "        l,r = 0, len(s)-1\n",
    "        while l < r:\n",
    "            while l < r and not self.alphnum(s[l]):\n",
    "                l += 1\n",
    "            while r > l and not self.alphnum(s[r]):\n",
    "                    r -= 1\n",
    "            if s[l].lower() != s[r].lower():\n",
    "                    return False\n",
    "            l, r = l+1, r- 1\n",
    "        return True\n",
    "        \n",
    "    def alphnum(self,c):\n",
    "        return (ord('A') <= ord(c) <= ord('Z') or\n",
    "                ord('a') <= ord(c) <= ord('z') or\n",
    "                ord('0') <= ord(c) <= ord('9'))"
   ]
  },
  {
   "cell_type": "code",
   "execution_count": null,
   "id": "a371e9e3",
   "metadata": {},
   "outputs": [],
   "source": []
  }
 ],
 "metadata": {
  "kernelspec": {
   "display_name": "Python 3 (ipykernel)",
   "language": "python",
   "name": "python3"
  },
  "language_info": {
   "codemirror_mode": {
    "name": "ipython",
    "version": 3
   },
   "file_extension": ".py",
   "mimetype": "text/x-python",
   "name": "python",
   "nbconvert_exporter": "python",
   "pygments_lexer": "ipython3",
   "version": "3.11.7"
  }
 },
 "nbformat": 4,
 "nbformat_minor": 5
}
