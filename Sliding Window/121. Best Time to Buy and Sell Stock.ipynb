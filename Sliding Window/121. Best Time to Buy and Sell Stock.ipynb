{
 "cells": [
  {
   "cell_type": "markdown",
   "id": "35e0b211",
   "metadata": {},
   "source": [
    "Q. You are given an array prices where prices[i] is the price of a given stock on the ith day.\n",
    "\n",
    "You want to maximize your profit by choosing a single day to buy one stock and choosing a different day in the future to sell that stock.\n",
    "\n",
    "Return the maximum profit you can achieve from this transaction. If you cannot achieve any profit, return 0."
   ]
  },
  {
   "cell_type": "code",
   "execution_count": 32,
   "id": "e2b99c0b",
   "metadata": {},
   "outputs": [],
   "source": [
    "class Solution(object):\n",
    "    def minimum(self, prices):\n",
    "        sort = sorted(prices)\n",
    "        res = min(sort)\n",
    "        return prices.index(res)\n",
    "    def maxProfit(self, prices):\n",
    "        buy = minimum(prices)\n",
    "        r = len(prices)\n",
    "        for i in prices:\n",
    "            res = max(prices[i] - buy)\n",
    "            return res\n",
    "            \n"
   ]
  },
  {
   "cell_type": "code",
   "execution_count": 33,
   "id": "42a427b5",
   "metadata": {},
   "outputs": [
    {
     "ename": "IndexError",
     "evalue": "list index out of range",
     "output_type": "error",
     "traceback": [
      "\u001b[1;31m---------------------------------------------------------------------------\u001b[0m",
      "\u001b[1;31mIndexError\u001b[0m                                Traceback (most recent call last)",
      "Cell \u001b[1;32mIn[33], line 3\u001b[0m\n\u001b[0;32m      1\u001b[0m prices \u001b[38;5;241m=\u001b[39m [\u001b[38;5;241m7\u001b[39m,\u001b[38;5;241m1\u001b[39m,\u001b[38;5;241m5\u001b[39m,\u001b[38;5;241m3\u001b[39m,\u001b[38;5;241m6\u001b[39m,\u001b[38;5;241m4\u001b[39m]\n\u001b[0;32m      2\u001b[0m obj \u001b[38;5;241m=\u001b[39m Solution()\n\u001b[1;32m----> 3\u001b[0m obj\u001b[38;5;241m.\u001b[39mmaxProfit(prices)\n",
      "Cell \u001b[1;32mIn[32], line 10\u001b[0m, in \u001b[0;36mSolution.maxProfit\u001b[1;34m(self, prices)\u001b[0m\n\u001b[0;32m      8\u001b[0m r \u001b[38;5;241m=\u001b[39m \u001b[38;5;28mlen\u001b[39m(prices)\n\u001b[0;32m      9\u001b[0m \u001b[38;5;28;01mfor\u001b[39;00m i \u001b[38;5;129;01min\u001b[39;00m prices:\n\u001b[1;32m---> 10\u001b[0m     res \u001b[38;5;241m=\u001b[39m \u001b[38;5;28mmax\u001b[39m(prices[i] \u001b[38;5;241m-\u001b[39m buy)\n\u001b[0;32m     11\u001b[0m     \u001b[38;5;28;01mreturn\u001b[39;00m res\n",
      "\u001b[1;31mIndexError\u001b[0m: list index out of range"
     ]
    }
   ],
   "source": [
    "prices = [7,1,5,3,6,4]\n",
    "obj = Solution()\n",
    "obj.maxProfit(prices)"
   ]
  },
  {
   "cell_type": "code",
   "execution_count": 36,
   "id": "1965f890",
   "metadata": {},
   "outputs": [],
   "source": [
    "def minimum(prices):\n",
    "    sort = sorted(prices)\n",
    "    res = min(sort)\n",
    "    return prices.index(res)\n",
    "def maxProfit(prices):\n",
    "    buy = min(prices)\n",
    "    r = len(prices)\n",
    "    for i in prices:\n",
    "        res = max(prices[i] - buy)\n",
    "        return res"
   ]
  },
  {
   "cell_type": "code",
   "execution_count": 38,
   "id": "97dc7673",
   "metadata": {},
   "outputs": [
    {
     "data": {
      "text/plain": [
       "1"
      ]
     },
     "execution_count": 38,
     "metadata": {},
     "output_type": "execute_result"
    }
   ],
   "source": [
    "prices = [7,1,5,3,6,4]\n",
    "min(prices)"
   ]
  },
  {
   "cell_type": "code",
   "execution_count": 9,
   "id": "a05aac8d",
   "metadata": {},
   "outputs": [],
   "source": [
    "res = min(sort)"
   ]
  },
  {
   "cell_type": "code",
   "execution_count": 12,
   "id": "be300f31",
   "metadata": {},
   "outputs": [
    {
     "data": {
      "text/plain": [
       "1"
      ]
     },
     "execution_count": 12,
     "metadata": {},
     "output_type": "execute_result"
    }
   ],
   "source": [
    "prices.index(res)"
   ]
  },
  {
   "cell_type": "code",
   "execution_count": 39,
   "id": "b23a3286",
   "metadata": {},
   "outputs": [],
   "source": [
    "def maxProfit(prices):\n",
    "    buy_index = minimum(prices)\n",
    "    max_profit = 0\n",
    "    for i, price in enumerate(prices):\n",
    "        if i >= buy_index:\n",
    "            max_profit = max(max_profit, price - prices[buy_index])\n",
    "    return max_profit"
   ]
  },
  {
   "cell_type": "code",
   "execution_count": 40,
   "id": "b40a2615",
   "metadata": {},
   "outputs": [
    {
     "name": "stdout",
     "output_type": "stream",
     "text": [
      "5\n"
     ]
    }
   ],
   "source": [
    "prices = [7, 1, 5, 3, 6, 4]\n",
    "print(maxProfit(prices))"
   ]
  },
  {
   "cell_type": "code",
   "execution_count": 41,
   "id": "655c2b66",
   "metadata": {},
   "outputs": [],
   "source": [
    "#correct\n",
    "class Solution:\n",
    "    def maxProfit(self, prices):\n",
    "        res = 0\n",
    "        \n",
    "        lowest = prices[0]\n",
    "        for price in prices:\n",
    "            if price < lowest:\n",
    "                lowest = price\n",
    "            res = max(res, price - lowest)\n",
    "        return res\n"
   ]
  },
  {
   "cell_type": "code",
   "execution_count": null,
   "id": "030862ad",
   "metadata": {},
   "outputs": [],
   "source": []
  }
 ],
 "metadata": {
  "kernelspec": {
   "display_name": "Python 3 (ipykernel)",
   "language": "python",
   "name": "python3"
  },
  "language_info": {
   "codemirror_mode": {
    "name": "ipython",
    "version": 3
   },
   "file_extension": ".py",
   "mimetype": "text/x-python",
   "name": "python",
   "nbconvert_exporter": "python",
   "pygments_lexer": "ipython3",
   "version": "3.11.7"
  }
 },
 "nbformat": 4,
 "nbformat_minor": 5
}
