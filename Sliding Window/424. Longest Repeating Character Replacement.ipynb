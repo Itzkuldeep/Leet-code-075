{
 "cells": [
  {
   "cell_type": "markdown",
   "id": "6b72d1f7",
   "metadata": {},
   "source": [
    "You are given a string s and an integer k. You can choose any character of the string and change it to any other uppercase English character. You can perform this operation at most k times.\n",
    "\n",
    "Return the length of the longest substring containing the same letter you can get after performing the above operations."
   ]
  },
  {
   "cell_type": "code",
   "execution_count": null,
   "id": "d92a9e7a",
   "metadata": {},
   "outputs": [],
   "source": [
    "class Solution(object):\n",
    "    def characterReplacement(self, s, k):\n",
    "        count = {}\n",
    "        res = 0\n",
    "        l=0\n",
    "        for r in range(len(s)):\n",
    "            count[s[r]] = 1 + count.get(s[r], 0)\n",
    "            \n",
    "            while (r-l+1) - max(count.values()) > k:\n",
    "                count[s[l]] -= 1\n",
    "                l += 1\n",
    "            \n",
    "            res = max(res, r-l+1)\n",
    "        return res"
   ]
  }
 ],
 "metadata": {
  "kernelspec": {
   "display_name": "Python 3 (ipykernel)",
   "language": "python",
   "name": "python3"
  },
  "language_info": {
   "codemirror_mode": {
    "name": "ipython",
    "version": 3
   },
   "file_extension": ".py",
   "mimetype": "text/x-python",
   "name": "python",
   "nbconvert_exporter": "python",
   "pygments_lexer": "ipython3",
   "version": "3.11.7"
  }
 },
 "nbformat": 4,
 "nbformat_minor": 5
}
